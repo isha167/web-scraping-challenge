{
 "cells": [
  {
   "cell_type": "markdown",
   "id": "921cedea",
   "metadata": {},
   "source": [
    "# Mission to Mars\n",
    "---------------------------------------"
   ]
  },
  {
   "cell_type": "code",
   "execution_count": 1,
   "id": "35ee791c",
   "metadata": {},
   "outputs": [],
   "source": [
    "# import the dependencies \n",
    "import pandas as pd \n",
    "from bs4 import BeautifulSoup as bs\n",
    "from splinter import Browser\n",
    "from webdriver_manager.chrome import ChromeDriverManager"
   ]
  },
  {
   "cell_type": "code",
   "execution_count": 2,
   "id": "6ee8d586",
   "metadata": {},
   "outputs": [
    {
     "name": "stderr",
     "output_type": "stream",
     "text": [
      "\n",
      "\n",
      "====== WebDriver manager ======\n",
      "Current google-chrome version is 93.0.4577\n",
      "Get LATEST driver version for 93.0.4577\n",
      "Driver [C:\\Users\\arune\\.wdm\\drivers\\chromedriver\\win32\\93.0.4577.63\\chromedriver.exe] found in cache\n"
     ]
    }
   ],
   "source": [
    "executable_path = {'executable_path': ChromeDriverManager().install()}\n",
    "browser = Browser('chrome', **executable_path, headless=False)"
   ]
  },
  {
   "cell_type": "markdown",
   "id": "f83b645f",
   "metadata": {},
   "source": [
    "### NASA Mars News"
   ]
  },
  {
   "cell_type": "code",
   "execution_count": null,
   "id": "42da50f1",
   "metadata": {},
   "outputs": [],
   "source": [
    "#define the url and browse \n",
    "url_mars = 'https://redplanetscience.com/'\n",
    "browser.visit(url_mars)"
   ]
  },
  {
   "cell_type": "code",
   "execution_count": null,
   "id": "91e8d66b",
   "metadata": {},
   "outputs": [],
   "source": [
    "html = browser.html\n",
    "soup = bs(html, 'html.parser')\n",
    "# find and print the latest news title\n",
    "news_title = soup.find_all('div',class_ = 'content_title')[0]\n",
    "news_title_latest = news_title.text.strip()\n",
    "print(news_title_latest)"
   ]
  },
  {
   "cell_type": "code",
   "execution_count": null,
   "id": "b68ec262",
   "metadata": {},
   "outputs": [],
   "source": [
    "#find and print the latest news text\n",
    "latest_text = soup.find_all('div',class_ = 'article_teaser_body')[0]\n",
    "news_text = latest_text.text.strip()\n",
    "print(news_text)"
   ]
  },
  {
   "cell_type": "markdown",
   "id": "83803cea",
   "metadata": {},
   "source": [
    "### JPL Mars Space Images - Featured Image"
   ]
  },
  {
   "cell_type": "code",
   "execution_count": null,
   "id": "f20d54bb",
   "metadata": {},
   "outputs": [],
   "source": [
    "#define the url for scraping \n",
    "url_image = 'https://spaceimages-mars.com'\n",
    "browser.visit(url_image)\n",
    "html = browser.html\n",
    "soup = bs(html,'html.parser')"
   ]
  },
  {
   "cell_type": "code",
   "execution_count": null,
   "id": "1cc5ff21",
   "metadata": {},
   "outputs": [],
   "source": [
    "#scrape the website to retrieve the featured image on the site and save in a variable \n",
    "image= soup.find('img',class_='headerimage fade-in')\n",
    "featured_image= image.attrs['src']\n",
    "\n",
    "#full image url \n",
    "featured_image_url= url_image +'/'+ featured_image\n",
    "print(featured_image_url)"
   ]
  },
  {
   "cell_type": "markdown",
   "id": "48074cee",
   "metadata": {},
   "source": [
    "### Mars Facts"
   ]
  },
  {
   "cell_type": "code",
   "execution_count": null,
   "id": "4e1d8870",
   "metadata": {},
   "outputs": [],
   "source": [
    "#define the url for scraping \n",
    "url_geo = 'https://galaxyfacts-mars.com'\n",
    "table_marsfacts = pd.read_html(url_geo)\n",
    "table_marsfacts[1]"
   ]
  },
  {
   "cell_type": "code",
   "execution_count": null,
   "id": "8214f4cf",
   "metadata": {},
   "outputs": [],
   "source": [
    "#putting in a dataframe\n",
    "marsfacts_df = table_marsfacts[1]\n",
    "#rendering into html string\n",
    "marsfacts_html= marsfacts_df.to_html(header=True, index=True, na_rep='NaN')\n",
    "print(marsfacts_html)\n",
    "   \n",
    "    "
   ]
  },
  {
   "cell_type": "markdown",
   "id": "b80f8699",
   "metadata": {},
   "source": [
    "### Mars Hemispheres"
   ]
  },
  {
   "cell_type": "code",
   "execution_count": 3,
   "id": "546bf3be",
   "metadata": {},
   "outputs": [],
   "source": [
    "#scraping the mars hemisphere \n",
    "#define the url for scraping \n",
    "url_hem = 'https://marshemispheres.com/'\n",
    "browser.visit(url_hem)\n",
    "html = browser.html\n",
    "soup = bs(html,'html.parser')"
   ]
  },
  {
   "cell_type": "code",
   "execution_count": 6,
   "id": "b991103d",
   "metadata": {},
   "outputs": [
    {
     "data": {
      "text/plain": [
       "['cerberus.html', 'schiaparelli.html', 'syrtis.html', 'valles.html']"
      ]
     },
     "execution_count": 6,
     "metadata": {},
     "output_type": "execute_result"
    }
   ],
   "source": [
    "#find the image url and news title and text\n",
    "title_hem = soup.find_all('h3')\n",
    "title_hem\n",
    "\n",
    "# Extract image url\n",
    "hems_list = soup.find_all('a',class_ ='itemLink product-item')\n",
    "hem_url = []\n",
    "for hem in hems_list:\n",
    "    url=hem.attrs[\"href\"]\n",
    "    hem_url.append(url)\n",
    "    hem_url_new=  list(dict.fromkeys(hem_url))\n",
    "hem_url_new.pop(4)\n",
    "hem_url_new\n"
   ]
  },
  {
   "cell_type": "code",
   "execution_count": 10,
   "id": "71daf3e2",
   "metadata": {
    "scrolled": true
   },
   "outputs": [
    {
     "name": "stdout",
     "output_type": "stream",
     "text": [
      "https://marshemispheres.com/cerberus.html\n",
      "https://marshemispheres.com/schiaparelli.html\n",
      "https://marshemispheres.com/syrtis.html\n",
      "https://marshemispheres.com/valles.html\n"
     ]
    }
   ],
   "source": [
    "#browse each page for full image\n",
    "#define an empty list for image\n",
    "image_list = []\n",
    "for url in hem_url_new:\n",
    "    hem_image_url= url_hem + url\n",
    "    print(hem_image_url)\n",
    "    browser.visit(hem_image_url)\n",
    "    html = browser.html\n",
    "    soup = bs(html,'html.parser')\n",
    "    image_src=soup.find('li').a['href']\n",
    "    image_list.append(url_hem+image_src)\n",
    "    "
   ]
  },
  {
   "cell_type": "code",
   "execution_count": 8,
   "id": "7b2e2626",
   "metadata": {},
   "outputs": [
    {
     "data": {
      "text/plain": [
       "['https://marshemispheres.com/images/full.jpg',\n",
       " 'https://marshemispheres.com/images/schiaparelli_enhanced-full.jpg',\n",
       " 'https://marshemispheres.com/images/syrtis_major_enhanced-full.jpg',\n",
       " 'https://marshemispheres.com/images/valles_marineris_enhanced-full.jpg']"
      ]
     },
     "execution_count": 8,
     "metadata": {},
     "output_type": "execute_result"
    }
   ],
   "source": [
    "image_list"
   ]
  },
  {
   "cell_type": "code",
   "execution_count": 9,
   "id": "07c75c67",
   "metadata": {},
   "outputs": [
    {
     "data": {
      "text/plain": [
       "[<a class=\"itemLink product-item\" href=\"cerberus.html\"><img alt=\"Cerberus Hemisphere Enhanced thumbnail\" class=\"thumb\" src=\"images/39d3266553462198bd2fbc4d18fbed17_cerberus_enhanced.tif_thumb.png\"/></a>,\n",
       " <a class=\"itemLink product-item\" href=\"cerberus.html\">\n",
       " <h3>Cerberus Hemisphere Enhanced</h3>\n",
       " </a>,\n",
       " <a class=\"itemLink product-item\" href=\"schiaparelli.html\"><img alt=\"Schiaparelli Hemisphere Enhanced thumbnail\" class=\"thumb\" src=\"images/08eac6e22c07fb1fe72223a79252de20_schiaparelli_enhanced.tif_thumb.png\"/></a>,\n",
       " <a class=\"itemLink product-item\" href=\"schiaparelli.html\">\n",
       " <h3>Schiaparelli Hemisphere Enhanced</h3>\n",
       " </a>,\n",
       " <a class=\"itemLink product-item\" href=\"syrtis.html\"><img alt=\"Syrtis Major Hemisphere Enhanced thumbnail\" class=\"thumb\" src=\"images/55a0a1e2796313fdeafb17c35925e8ac_syrtis_major_enhanced.tif_thumb.png\"/></a>,\n",
       " <a class=\"itemLink product-item\" href=\"syrtis.html\">\n",
       " <h3>Syrtis Major Hemisphere Enhanced</h3>\n",
       " </a>,\n",
       " <a class=\"itemLink product-item\" href=\"valles.html\"><img alt=\"Valles Marineris Hemisphere Enhanced thumbnail\" class=\"thumb\" src=\"images/4e59980c1c57f89c680c0e1ccabbeff1_valles_marineris_enhanced.tif_thumb.png\"/></a>,\n",
       " <a class=\"itemLink product-item\" href=\"valles.html\">\n",
       " <h3>Valles Marineris Hemisphere Enhanced</h3>\n",
       " </a>,\n",
       " <a class=\"itemLink product-item\" href=\"#\" onclick=\"showMain()\">\n",
       " <h3>Back</h3>\n",
       " </a>]"
      ]
     },
     "execution_count": 9,
     "metadata": {},
     "output_type": "execute_result"
    }
   ],
   "source": [
    "hems_list"
   ]
  },
  {
   "cell_type": "code",
   "execution_count": 14,
   "id": "c936b942",
   "metadata": {},
   "outputs": [
    {
     "data": {
      "text/plain": [
       "{'title': [<h3>Cerberus Hemisphere Enhanced</h3>,\n",
       "  <h3>Schiaparelli Hemisphere Enhanced</h3>,\n",
       "  <h3>Syrtis Major Hemisphere Enhanced</h3>,\n",
       "  <h3>Valles Marineris Hemisphere Enhanced</h3>,\n",
       "  <h3>Back</h3>],\n",
       " 'image_url': ['https://marshemispheres.com/images/full.jpg',\n",
       "  'https://marshemispheres.com/images/schiaparelli_enhanced-full.jpg',\n",
       "  'https://marshemispheres.com/images/syrtis_major_enhanced-full.jpg',\n",
       "  'https://marshemispheres.com/images/valles_marineris_enhanced-full.jpg']}"
      ]
     },
     "execution_count": 14,
     "metadata": {},
     "output_type": "execute_result"
    }
   ],
   "source": [
    " # Create dictionary for title and url\n",
    "hem_dict={'title':title_hem,'image_url':image_list}\n",
    "hem_dict"
   ]
  },
  {
   "cell_type": "code",
   "execution_count": 11,
   "id": "b016dc97",
   "metadata": {},
   "outputs": [
    {
     "ename": "NameError",
     "evalue": "name 'usgs_url' is not defined",
     "output_type": "error",
     "traceback": [
      "\u001b[1;31m---------------------------------------------------------------------------\u001b[0m",
      "\u001b[1;31mNameError\u001b[0m                                 Traceback (most recent call last)",
      "\u001b[1;32m~\\AppData\\Local\\Temp/ipykernel_16264/2516036199.py\u001b[0m in \u001b[0;36m<module>\u001b[1;34m\u001b[0m\n\u001b[1;32m----> 1\u001b[1;33m \u001b[0mbrowser\u001b[0m\u001b[1;33m.\u001b[0m\u001b[0mvisit\u001b[0m\u001b[1;33m(\u001b[0m\u001b[0musgs_url\u001b[0m\u001b[1;33m+\u001b[0m\u001b[0mhem_url\u001b[0m\u001b[1;33m)\u001b[0m\u001b[1;33m\u001b[0m\u001b[1;33m\u001b[0m\u001b[0m\n\u001b[0m\u001b[0;32m      2\u001b[0m \u001b[0mhtml\u001b[0m\u001b[1;33m=\u001b[0m\u001b[0mbrowser\u001b[0m\u001b[1;33m.\u001b[0m\u001b[0mhtml\u001b[0m\u001b[1;33m\u001b[0m\u001b[1;33m\u001b[0m\u001b[0m\n\u001b[0;32m      3\u001b[0m \u001b[0msoup\u001b[0m\u001b[1;33m=\u001b[0m\u001b[0mbs\u001b[0m\u001b[1;33m(\u001b[0m\u001b[0mhtml\u001b[0m\u001b[1;33m,\u001b[0m\u001b[1;34m'html.parser'\u001b[0m\u001b[1;33m)\u001b[0m\u001b[1;33m\u001b[0m\u001b[1;33m\u001b[0m\u001b[0m\n\u001b[0;32m      4\u001b[0m \u001b[0mimage_src\u001b[0m\u001b[1;33m=\u001b[0m\u001b[0msoup\u001b[0m\u001b[1;33m.\u001b[0m\u001b[0mfind\u001b[0m\u001b[1;33m(\u001b[0m\u001b[1;34m'li'\u001b[0m\u001b[1;33m)\u001b[0m\u001b[1;33m.\u001b[0m\u001b[0ma\u001b[0m\u001b[1;33m[\u001b[0m\u001b[1;34m'href'\u001b[0m\u001b[1;33m]\u001b[0m\u001b[1;33m\u001b[0m\u001b[1;33m\u001b[0m\u001b[0m\n\u001b[0;32m      5\u001b[0m \u001b[1;33m\u001b[0m\u001b[0m\n",
      "\u001b[1;31mNameError\u001b[0m: name 'usgs_url' is not defined"
     ]
    }
   ],
   "source": [
    "browser.visit(usgs_url+hem_url)\n",
    "html=browser.html\n",
    "soup=bs(html,'html.parser')\n",
    "image_src=soup.find('li').a['href']\n",
    "  "
   ]
  },
  {
   "cell_type": "code",
   "execution_count": null,
   "id": "b8d56b47",
   "metadata": {},
   "outputs": [],
   "source": []
  }
 ],
 "metadata": {
  "kernelspec": {
   "display_name": "Python 3 (ipykernel)",
   "language": "python",
   "name": "python3"
  },
  "language_info": {
   "codemirror_mode": {
    "name": "ipython",
    "version": 3
   },
   "file_extension": ".py",
   "mimetype": "text/x-python",
   "name": "python",
   "nbconvert_exporter": "python",
   "pygments_lexer": "ipython3",
   "version": "3.9.5"
  }
 },
 "nbformat": 4,
 "nbformat_minor": 5
}

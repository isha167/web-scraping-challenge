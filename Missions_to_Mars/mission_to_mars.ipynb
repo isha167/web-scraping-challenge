{
 "cells": [
  {
   "cell_type": "markdown",
   "id": "921cedea",
   "metadata": {},
   "source": [
    "# Mission to Mars\n",
    "---------------------------------------"
   ]
  },
  {
   "cell_type": "code",
   "execution_count": 26,
   "id": "35ee791c",
   "metadata": {},
   "outputs": [],
   "source": [
    "# import thr dependencies \n",
    "import pandas as pd \n",
    "from bs4 import BeautifulSoup as bs\n",
    "from splinter import Browser\n",
    "from webdriver_manager.chrome import ChromeDriverManager"
   ]
  },
  {
   "cell_type": "code",
   "execution_count": 27,
   "id": "6ee8d586",
   "metadata": {},
   "outputs": [
    {
     "name": "stderr",
     "output_type": "stream",
     "text": [
      "\n",
      "\n",
      "====== WebDriver manager ======\n",
      "Current google-chrome version is 93.0.4577\n",
      "Get LATEST driver version for 93.0.4577\n",
      "Driver [C:\\Users\\arune\\.wdm\\drivers\\chromedriver\\win32\\93.0.4577.63\\chromedriver.exe] found in cache\n"
     ]
    }
   ],
   "source": [
    "executable_path = {'executable_path': ChromeDriverManager().install()}\n",
    "browser = Browser('chrome', **executable_path, headless=False)"
   ]
  },
  {
   "cell_type": "code",
   "execution_count": 28,
   "id": "42da50f1",
   "metadata": {},
   "outputs": [],
   "source": [
    "#define the url and browse \n",
    "url = 'https://redplanetscience.com/'\n",
    "browser.visit(url)"
   ]
  },
  {
   "cell_type": "code",
   "execution_count": 30,
   "id": "91e8d66b",
   "metadata": {},
   "outputs": [
    {
     "name": "stdout",
     "output_type": "stream",
     "text": [
      "NASA's Perseverance Rover 100 Days Out\n"
     ]
    }
   ],
   "source": [
    "html = browser.html\n",
    "soup = bs(html, 'html.parser')\n",
    "# find and print the latest news title\n",
    "news_title = soup.find_all('div',class_ = 'content_title')[0]\n",
    "news_title_latest = news_title.text.strip()\n",
    "print(news_title_latest)"
   ]
  },
  {
   "cell_type": "code",
   "execution_count": null,
   "id": "792bfefb",
   "metadata": {},
   "outputs": [],
   "source": []
  },
  {
   "cell_type": "code",
   "execution_count": 31,
   "id": "b68ec262",
   "metadata": {},
   "outputs": [
    {
     "name": "stdout",
     "output_type": "stream",
     "text": [
      "Mark your calendars: The agency's latest rover has only about 8,640,000 seconds to go before it touches down on the Red Planet, becoming history's next Mars car.\n"
     ]
    }
   ],
   "source": [
    "#find and print the latest news text\n",
    "latest_text = soup.find_all('div',class_ = 'article_teaser_body')[0]\n",
    "news_text = latest_text.text.strip()\n",
    "print(news_text)"
   ]
  },
  {
   "cell_type": "code",
   "execution_count": null,
   "id": "7cdb8d3f",
   "metadata": {},
   "outputs": [],
   "source": []
  }
 ],
 "metadata": {
  "kernelspec": {
   "display_name": "Python 3 (ipykernel)",
   "language": "python",
   "name": "python3"
  },
  "language_info": {
   "codemirror_mode": {
    "name": "ipython",
    "version": 3
   },
   "file_extension": ".py",
   "mimetype": "text/x-python",
   "name": "python",
   "nbconvert_exporter": "python",
   "pygments_lexer": "ipython3",
   "version": "3.9.5"
  }
 },
 "nbformat": 4,
 "nbformat_minor": 5
}
